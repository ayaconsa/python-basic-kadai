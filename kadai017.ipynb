{
  "nbformat": 4,
  "nbformat_minor": 0,
  "metadata": {
    "colab": {
      "provenance": [],
      "authorship_tag": "ABX9TyOjSoxsDHYfMFsftQ/eK1m2",
      "include_colab_link": true
    },
    "kernelspec": {
      "name": "python3",
      "display_name": "Python 3"
    },
    "language_info": {
      "name": "python"
    }
  },
  "cells": [
    {
      "cell_type": "markdown",
      "metadata": {
        "id": "view-in-github",
        "colab_type": "text"
      },
      "source": [
        "<a href=\"https://colab.research.google.com/github/ayaconsa/python-basic-kadai/blob/main/kadai017.ipynb\" target=\"_parent\"><img src=\"https://colab.research.google.com/assets/colab-badge.svg\" alt=\"Open In Colab\"/></a>"
      ]
    },
    {
      "cell_type": "code",
      "execution_count": 34,
      "metadata": {
        "colab": {
          "base_uri": "https://localhost:8080/"
        },
        "id": "0B7KW5Uh15n6",
        "outputId": "5c795a16-cda1-49fc-b194-2b90f1446b88"
      },
      "outputs": [
        {
          "output_type": "stream",
          "name": "stdout",
          "text": [
            "侍太郎 は大人です\n"
          ]
        }
      ],
      "source": [
        "# 名前(name)と年齢(age)の属性を持つHumanクラスの作成\n",
        "\n",
        "class Human:\n",
        "    def __init__(self, name, age):\n",
        "        self.name = name\n",
        "        self.age = age\n",
        "\n",
        "    # 大人かどうかを判断するメソッドの追加\n",
        "    def check_adult(self):\n",
        "        if self.age >= 20:\n",
        "            print(f\"{self.name} は大人です\")\n",
        "        else:\n",
        "            print(f\"{self.name} は大人ではありません\")\n",
        "\n",
        "human_1 = Human(\"侍太郎\", 36)\n",
        "human_1.check_adult()"
      ]
    },
    {
      "cell_type": "code",
      "source": [
        "# 複数のHumanクラスのインスタンスを作るためのリスト生成\n",
        "\n",
        "data = [[\"侍太郎\", 36], [\"侍花子\", 28], [\"侍二郎\", 20], [\"侍京子\", 18]]\n",
        "\n",
        "human_list = []\n",
        "for d in data:\n",
        "    human_list.append((d[0], d[1]))\n",
        "\n",
        "print(human_list)"
      ],
      "metadata": {
        "colab": {
          "base_uri": "https://localhost:8080/"
        },
        "id": "bTxMJtuomJjZ",
        "outputId": "a2e333a4-1ab9-4662-d677-4bb1d16684fb"
      },
      "execution_count": 35,
      "outputs": [
        {
          "output_type": "stream",
          "name": "stdout",
          "text": [
            "[('侍太郎', 36), ('侍花子', 28), ('侍二郎', 20), ('侍京子', 18)]\n"
          ]
        }
      ]
    },
    {
      "cell_type": "code",
      "source": [
        "# リストの要素数分だけインスタンスを生成し、同時にcheck_adultメソッドを呼び出す\n",
        "\n",
        "i = 0\n",
        "for h in human_list:\n",
        "    Human(h[0], h[1]).check_adult()"
      ],
      "metadata": {
        "colab": {
          "base_uri": "https://localhost:8080/"
        },
        "id": "AOfVkETxt1Y_",
        "outputId": "e9dca12d-5b4a-437b-baeb-53cce3b087c0"
      },
      "execution_count": 36,
      "outputs": [
        {
          "output_type": "stream",
          "name": "stdout",
          "text": [
            "侍太郎 は大人です\n",
            "侍花子 は大人です\n",
            "侍二郎 は大人です\n",
            "侍京子 は大人ではありません\n"
          ]
        }
      ]
    }
  ]
}