{
  "nbformat": 4,
  "nbformat_minor": 0,
  "metadata": {
    "colab": {
      "provenance": [],
      "authorship_tag": "ABX9TyNH9EHS4sa3/uEWwGSIA5LP",
      "include_colab_link": true
    },
    "kernelspec": {
      "name": "python3",
      "display_name": "Python 3"
    },
    "language_info": {
      "name": "python"
    }
  },
  "cells": [
    {
      "cell_type": "markdown",
      "metadata": {
        "id": "view-in-github",
        "colab_type": "text"
      },
      "source": [
        "<a href=\"https://colab.research.google.com/github/ayaconsa/python-basic-kadai/blob/main/kadai013.ipynb\" target=\"_parent\"><img src=\"https://colab.research.google.com/assets/colab-badge.svg\" alt=\"Open In Colab\"/></a>"
      ]
    },
    {
      "cell_type": "code",
      "execution_count": 4,
      "metadata": {
        "id": "Or5iHvN86fTd"
      },
      "outputs": [],
      "source": [
        "def total(price, tax_rate=0.1):\n",
        "    total = price + price * tax_rate\n",
        "    print(f\"{total}円\")"
      ]
    },
    {
      "cell_type": "code",
      "source": [
        "total(1500)"
      ],
      "metadata": {
        "colab": {
          "base_uri": "https://localhost:8080/"
        },
        "id": "9T6Ayebl8dWv",
        "outputId": "790493f9-07ef-42b4-d225-2b20fb47fa37"
      },
      "execution_count": 5,
      "outputs": [
        {
          "output_type": "stream",
          "name": "stdout",
          "text": [
            "1650.0円\n"
          ]
        }
      ]
    }
  ]
}