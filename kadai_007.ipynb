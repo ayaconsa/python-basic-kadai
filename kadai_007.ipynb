{
  "nbformat": 4,
  "nbformat_minor": 0,
  "metadata": {
    "colab": {
      "provenance": [],
      "authorship_tag": "ABX9TyMakscBnuQWNGiKo7FcXNqh",
      "include_colab_link": true
    },
    "kernelspec": {
      "name": "python3",
      "display_name": "Python 3"
    },
    "language_info": {
      "name": "python"
    }
  },
  "cells": [
    {
      "cell_type": "markdown",
      "metadata": {
        "id": "view-in-github",
        "colab_type": "text"
      },
      "source": [
        "<a href=\"https://colab.research.google.com/github/ayaconsa/python-basic-kadai/blob/main/kadai_007.ipynb\" target=\"_parent\"><img src=\"https://colab.research.google.com/assets/colab-badge.svg\" alt=\"Open In Colab\"/></a>"
      ]
    },
    {
      "cell_type": "code",
      "execution_count": 2,
      "metadata": {
        "colab": {
          "base_uri": "https://localhost:8080/"
        },
        "id": "6FqFxAwSGpBA",
        "outputId": "8d92fa97-2e17-4ed3-97be-751a12de3b38"
      },
      "outputs": [
        {
          "output_type": "stream",
          "name": "stdout",
          "text": [
            "水曜日は晴れです\n",
            "水曜日は晴れです\n"
          ]
        }
      ],
      "source": [
        "list = [\n",
        "\"月曜日は晴れです\",\n",
        "\"火曜日は雨です\",\n",
        "\"水曜日は晴れです\",\n",
        "\"木曜日は晴れです\",\n",
        "\"金曜日は曇りです\",\n",
        "\"土曜日は曇りのち雨です\",\n",
        "\"日曜日は雷雨です\"]\n",
        "\n",
        "dictionary = {\n",
        "\"mon\":\"晴れ\",\n",
        "\"tue\":\"雨\",\n",
        "\"wed\":\"晴れ\",\n",
        "\"thu\":\"晴れ\",\n",
        "\"fri\":\"曇り\",\n",
        "\"sat\":\"曇りのち雨\",\n",
        "\"sun\":\"雷雨\",\n",
        "}\n",
        "\n",
        "print(list[2])\n",
        "\n",
        "print(f\"水曜日は{dictionary['wed']}です\")"
      ]
    }
  ]
}