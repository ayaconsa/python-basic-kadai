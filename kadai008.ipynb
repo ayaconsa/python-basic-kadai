{
  "nbformat": 4,
  "nbformat_minor": 0,
  "metadata": {
    "colab": {
      "provenance": [],
      "authorship_tag": "ABX9TyP25fuWsXLmy9lObDQEgJJK",
      "include_colab_link": true
    },
    "kernelspec": {
      "name": "python3",
      "display_name": "Python 3"
    },
    "language_info": {
      "name": "python"
    }
  },
  "cells": [
    {
      "cell_type": "markdown",
      "metadata": {
        "id": "view-in-github",
        "colab_type": "text"
      },
      "source": [
        "<a href=\"https://colab.research.google.com/github/ayaconsa/python-basic-kadai/blob/main/kadai008.ipynb\" target=\"_parent\"><img src=\"https://colab.research.google.com/assets/colab-badge.svg\" alt=\"Open In Colab\"/></a>"
      ]
    },
    {
      "cell_type": "code",
      "execution_count": 9,
      "metadata": {
        "colab": {
          "base_uri": "https://localhost:8080/"
        },
        "id": "tGWqnEsJLiQY",
        "outputId": "49ceef5b-da92-4bcc-96aa-c5448dfe6390"
      },
      "outputs": [
        {
          "output_type": "stream",
          "name": "stdout",
          "text": [
            "Buzz\n"
          ]
        }
      ],
      "source": [
        "# 変数varが3の倍数の場合はFizz、5の倍数の場合はBuzz、3と5の倍数の場合はFizzBuzz、それ以外の場合は変数varを出力する条件式\n",
        "\n",
        "if var % 3 == 0 and var % 5 == 0:\n",
        "    print('FizzBuzz')\n",
        "elif var % 3 == 0:\n",
        "    print('Buzz')\n",
        "elif var % 5 == 0:\n",
        "    print('Fizz')\n",
        "else:\n",
        "    print(var)"
      ]
    }
  ]
}